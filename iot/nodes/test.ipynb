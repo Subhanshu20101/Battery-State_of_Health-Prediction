{
 "cells": [
  {
   "cell_type": "code",
   "execution_count": 9,
   "metadata": {},
   "outputs": [],
   "source": [
    "import socket\n",
    "import numpy as np"
   ]
  },
  {
   "cell_type": "code",
   "execution_count": 4,
   "metadata": {},
   "outputs": [
    {
     "data": {
      "text/plain": [
       "str"
      ]
     },
     "execution_count": 4,
     "metadata": {},
     "output_type": "execute_result"
    }
   ],
   "source": [
    "type(socket.gethostbyname(socket.gethostname()))"
   ]
  },
  {
   "cell_type": "code",
   "execution_count": 4,
   "metadata": {},
   "outputs": [],
   "source": [
    "node2 = '172.16.123.74'\n",
    "SOH  = {'172.16.123.74': 500}"
   ]
  },
  {
   "cell_type": "code",
   "execution_count": 5,
   "metadata": {},
   "outputs": [
    {
     "name": "stdout",
     "output_type": "stream",
     "text": [
      "{'172.16.123.74': 500}\n"
     ]
    }
   ],
   "source": [
    "print(SOH)"
   ]
  },
  {
   "cell_type": "code",
   "execution_count": 6,
   "metadata": {},
   "outputs": [
    {
     "data": {
      "text/plain": [
       "{'172.16.123.74': 400}"
      ]
     },
     "execution_count": 6,
     "metadata": {},
     "output_type": "execute_result"
    }
   ],
   "source": [
    "SOH[node2]=400\n",
    "SOH"
   ]
  },
  {
   "cell_type": "code",
   "execution_count": 7,
   "metadata": {},
   "outputs": [
    {
     "data": {
      "text/plain": [
       "{'172.16.121.68': 500, '172.16.123.74': 1000, '172.16.122.77': 800}"
      ]
     },
     "execution_count": 7,
     "metadata": {},
     "output_type": "execute_result"
    }
   ],
   "source": [
    "node1_ip= '172.16.121.68'\n",
    "node2_ip= '172.16.123.74'\n",
    "node3_ip= '172.16.122.77'\n",
    "\n",
    "SOH = {node1_ip: 500, node2_ip: 1000, node3_ip: 800}\n",
    "SOH"
   ]
  },
  {
   "cell_type": "code",
   "execution_count": 10,
   "metadata": {},
   "outputs": [
    {
     "name": "stdout",
     "output_type": "stream",
     "text": [
      "{'172.16.121.68': 500, '172.16.123.74': 800, '172.16.122.77': 1000}\n"
     ]
    }
   ],
   "source": [
    "sorted_value_index = np.argsort(SOH.values())\n",
    "dictionary_keys = list(SOH.keys())\n",
    "SOH = {dictionary_keys[i]: sorted(SOH.values())[i] for i in range(len(dictionary_keys))}\n",
    "\n",
    "print(SOH)"
   ]
  },
  {
   "cell_type": "code",
   "execution_count": 11,
   "metadata": {},
   "outputs": [
    {
     "name": "stdout",
     "output_type": "stream",
     "text": [
      "sldfjdj : 564\n"
     ]
    }
   ],
   "source": [
    "a = '564'\n",
    "print('sldfjdj : '+ a)"
   ]
  },
  {
   "cell_type": "code",
   "execution_count": null,
   "metadata": {},
   "outputs": [],
   "source": []
  }
 ],
 "metadata": {
  "kernelspec": {
   "display_name": "Python 3.8.13 ('test')",
   "language": "python",
   "name": "python3"
  },
  "language_info": {
   "codemirror_mode": {
    "name": "ipython",
    "version": 3
   },
   "file_extension": ".py",
   "mimetype": "text/x-python",
   "name": "python",
   "nbconvert_exporter": "python",
   "pygments_lexer": "ipython3",
   "version": "3.8.13"
  },
  "orig_nbformat": 4,
  "vscode": {
   "interpreter": {
    "hash": "8e7d6e3b1b26a6d44687ea7eff908016139f4f8ee84b40cfc43a1585b0ade309"
   }
  }
 },
 "nbformat": 4,
 "nbformat_minor": 2
}
