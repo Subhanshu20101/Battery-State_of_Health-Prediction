{
 "cells": [
  {
   "cell_type": "code",
   "execution_count": 1,
   "metadata": {},
   "outputs": [
    {
     "name": "stderr",
     "output_type": "stream",
     "text": [
      "pandas.core.index is deprecated and will be removed in a future version. The public classes are available in the top-level namespace.\n"
     ]
    }
   ],
   "source": [
    "import pandas as pd\n",
    "import evalml"
   ]
  },
  {
   "cell_type": "code",
   "execution_count": 2,
   "metadata": {},
   "outputs": [],
   "source": [
    "df = pd.read_csv('final.csv')"
   ]
  },
  {
   "cell_type": "code",
   "execution_count": 3,
   "metadata": {},
   "outputs": [
    {
     "data": {
      "text/html": [
       "<div>\n",
       "<style scoped>\n",
       "    .dataframe tbody tr th:only-of-type {\n",
       "        vertical-align: middle;\n",
       "    }\n",
       "\n",
       "    .dataframe tbody tr th {\n",
       "        vertical-align: top;\n",
       "    }\n",
       "\n",
       "    .dataframe thead th {\n",
       "        text-align: right;\n",
       "    }\n",
       "</style>\n",
       "<table border=\"1\" class=\"dataframe\">\n",
       "  <thead>\n",
       "    <tr style=\"text-align: right;\">\n",
       "      <th></th>\n",
       "      <th>Unnamed: 0</th>\n",
       "      <th>tn12</th>\n",
       "      <th>tn13</th>\n",
       "      <th>tn13.1</th>\n",
       "      <th>SoH</th>\n",
       "    </tr>\n",
       "  </thead>\n",
       "  <tbody>\n",
       "    <tr>\n",
       "      <th>0</th>\n",
       "      <td>0</td>\n",
       "      <td>2.92982</td>\n",
       "      <td>18.68882</td>\n",
       "      <td>15.759</td>\n",
       "      <td>0.969182</td>\n",
       "    </tr>\n",
       "    <tr>\n",
       "      <th>1</th>\n",
       "      <td>1</td>\n",
       "      <td>2.92400</td>\n",
       "      <td>18.77300</td>\n",
       "      <td>15.849</td>\n",
       "      <td>0.970000</td>\n",
       "    </tr>\n",
       "    <tr>\n",
       "      <th>2</th>\n",
       "      <td>2</td>\n",
       "      <td>2.95300</td>\n",
       "      <td>18.85200</td>\n",
       "      <td>15.899</td>\n",
       "      <td>0.970545</td>\n",
       "    </tr>\n",
       "    <tr>\n",
       "      <th>3</th>\n",
       "      <td>3</td>\n",
       "      <td>3.00000</td>\n",
       "      <td>18.87000</td>\n",
       "      <td>15.870</td>\n",
       "      <td>0.971091</td>\n",
       "    </tr>\n",
       "    <tr>\n",
       "      <th>4</th>\n",
       "      <td>4</td>\n",
       "      <td>2.99000</td>\n",
       "      <td>18.93000</td>\n",
       "      <td>15.940</td>\n",
       "      <td>0.971545</td>\n",
       "    </tr>\n",
       "  </tbody>\n",
       "</table>\n",
       "</div>"
      ],
      "text/plain": [
       "   Unnamed: 0     tn12      tn13  tn13.1       SoH\n",
       "0           0  2.92982  18.68882  15.759  0.969182\n",
       "1           1  2.92400  18.77300  15.849  0.970000\n",
       "2           2  2.95300  18.85200  15.899  0.970545\n",
       "3           3  3.00000  18.87000  15.870  0.971091\n",
       "4           4  2.99000  18.93000  15.940  0.971545"
      ]
     },
     "execution_count": 3,
     "metadata": {},
     "output_type": "execute_result"
    }
   ],
   "source": [
    "df.head()"
   ]
  },
  {
   "cell_type": "code",
   "execution_count": 4,
   "metadata": {},
   "outputs": [
    {
     "data": {
      "text/html": [
       "<div>\n",
       "<style scoped>\n",
       "    .dataframe tbody tr th:only-of-type {\n",
       "        vertical-align: middle;\n",
       "    }\n",
       "\n",
       "    .dataframe tbody tr th {\n",
       "        vertical-align: top;\n",
       "    }\n",
       "\n",
       "    .dataframe thead th {\n",
       "        text-align: right;\n",
       "    }\n",
       "</style>\n",
       "<table border=\"1\" class=\"dataframe\">\n",
       "  <thead>\n",
       "    <tr style=\"text-align: right;\">\n",
       "      <th></th>\n",
       "      <th>tn12</th>\n",
       "      <th>tn13</th>\n",
       "      <th>tn13.1</th>\n",
       "      <th>SoH</th>\n",
       "    </tr>\n",
       "  </thead>\n",
       "  <tbody>\n",
       "    <tr>\n",
       "      <th>0</th>\n",
       "      <td>2.92982</td>\n",
       "      <td>18.68882</td>\n",
       "      <td>15.759</td>\n",
       "      <td>0.969182</td>\n",
       "    </tr>\n",
       "    <tr>\n",
       "      <th>1</th>\n",
       "      <td>2.92400</td>\n",
       "      <td>18.77300</td>\n",
       "      <td>15.849</td>\n",
       "      <td>0.970000</td>\n",
       "    </tr>\n",
       "    <tr>\n",
       "      <th>2</th>\n",
       "      <td>2.95300</td>\n",
       "      <td>18.85200</td>\n",
       "      <td>15.899</td>\n",
       "      <td>0.970545</td>\n",
       "    </tr>\n",
       "    <tr>\n",
       "      <th>3</th>\n",
       "      <td>3.00000</td>\n",
       "      <td>18.87000</td>\n",
       "      <td>15.870</td>\n",
       "      <td>0.971091</td>\n",
       "    </tr>\n",
       "    <tr>\n",
       "      <th>4</th>\n",
       "      <td>2.99000</td>\n",
       "      <td>18.93000</td>\n",
       "      <td>15.940</td>\n",
       "      <td>0.971545</td>\n",
       "    </tr>\n",
       "    <tr>\n",
       "      <th>...</th>\n",
       "      <td>...</td>\n",
       "      <td>...</td>\n",
       "      <td>...</td>\n",
       "      <td>...</td>\n",
       "    </tr>\n",
       "    <tr>\n",
       "      <th>5492</th>\n",
       "      <td>1.00000</td>\n",
       "      <td>7.00000</td>\n",
       "      <td>6.000</td>\n",
       "      <td>0.803027</td>\n",
       "    </tr>\n",
       "    <tr>\n",
       "      <th>5493</th>\n",
       "      <td>1.00000</td>\n",
       "      <td>7.00000</td>\n",
       "      <td>6.000</td>\n",
       "      <td>0.802191</td>\n",
       "    </tr>\n",
       "    <tr>\n",
       "      <th>5494</th>\n",
       "      <td>1.00000</td>\n",
       "      <td>7.00000</td>\n",
       "      <td>6.000</td>\n",
       "      <td>0.801573</td>\n",
       "    </tr>\n",
       "    <tr>\n",
       "      <th>5495</th>\n",
       "      <td>1.00000</td>\n",
       "      <td>7.00000</td>\n",
       "      <td>6.000</td>\n",
       "      <td>0.801073</td>\n",
       "    </tr>\n",
       "    <tr>\n",
       "      <th>5496</th>\n",
       "      <td>1.00000</td>\n",
       "      <td>8.00000</td>\n",
       "      <td>7.000</td>\n",
       "      <td>0.800736</td>\n",
       "    </tr>\n",
       "  </tbody>\n",
       "</table>\n",
       "<p>5497 rows × 4 columns</p>\n",
       "</div>"
      ],
      "text/plain": [
       "         tn12      tn13  tn13.1       SoH\n",
       "0     2.92982  18.68882  15.759  0.969182\n",
       "1     2.92400  18.77300  15.849  0.970000\n",
       "2     2.95300  18.85200  15.899  0.970545\n",
       "3     3.00000  18.87000  15.870  0.971091\n",
       "4     2.99000  18.93000  15.940  0.971545\n",
       "...       ...       ...     ...       ...\n",
       "5492  1.00000   7.00000   6.000  0.803027\n",
       "5493  1.00000   7.00000   6.000  0.802191\n",
       "5494  1.00000   7.00000   6.000  0.801573\n",
       "5495  1.00000   7.00000   6.000  0.801073\n",
       "5496  1.00000   8.00000   7.000  0.800736\n",
       "\n",
       "[5497 rows x 4 columns]"
      ]
     },
     "execution_count": 4,
     "metadata": {},
     "output_type": "execute_result"
    }
   ],
   "source": [
    "df.drop('Unnamed: 0', axis=1)"
   ]
  },
  {
   "cell_type": "code",
   "execution_count": 5,
   "metadata": {},
   "outputs": [],
   "source": [
    "X=df.drop('SoH',axis=1)\n",
    "y=df['SoH']"
   ]
  },
  {
   "cell_type": "code",
   "execution_count": 6,
   "metadata": {},
   "outputs": [
    {
     "data": {
      "text/html": [
       "<div>\n",
       "<style scoped>\n",
       "    .dataframe tbody tr th:only-of-type {\n",
       "        vertical-align: middle;\n",
       "    }\n",
       "\n",
       "    .dataframe tbody tr th {\n",
       "        vertical-align: top;\n",
       "    }\n",
       "\n",
       "    .dataframe thead th {\n",
       "        text-align: right;\n",
       "    }\n",
       "</style>\n",
       "<table border=\"1\" class=\"dataframe\">\n",
       "  <thead>\n",
       "    <tr style=\"text-align: right;\">\n",
       "      <th></th>\n",
       "      <th>Unnamed: 0</th>\n",
       "      <th>tn12</th>\n",
       "      <th>tn13</th>\n",
       "      <th>tn13.1</th>\n",
       "    </tr>\n",
       "  </thead>\n",
       "  <tbody>\n",
       "    <tr>\n",
       "      <th>0</th>\n",
       "      <td>0</td>\n",
       "      <td>2.92982</td>\n",
       "      <td>18.68882</td>\n",
       "      <td>15.759</td>\n",
       "    </tr>\n",
       "    <tr>\n",
       "      <th>1</th>\n",
       "      <td>1</td>\n",
       "      <td>2.92400</td>\n",
       "      <td>18.77300</td>\n",
       "      <td>15.849</td>\n",
       "    </tr>\n",
       "    <tr>\n",
       "      <th>2</th>\n",
       "      <td>2</td>\n",
       "      <td>2.95300</td>\n",
       "      <td>18.85200</td>\n",
       "      <td>15.899</td>\n",
       "    </tr>\n",
       "    <tr>\n",
       "      <th>3</th>\n",
       "      <td>3</td>\n",
       "      <td>3.00000</td>\n",
       "      <td>18.87000</td>\n",
       "      <td>15.870</td>\n",
       "    </tr>\n",
       "    <tr>\n",
       "      <th>4</th>\n",
       "      <td>4</td>\n",
       "      <td>2.99000</td>\n",
       "      <td>18.93000</td>\n",
       "      <td>15.940</td>\n",
       "    </tr>\n",
       "  </tbody>\n",
       "</table>\n",
       "</div>"
      ],
      "text/plain": [
       "   Unnamed: 0     tn12      tn13  tn13.1\n",
       "0           0  2.92982  18.68882  15.759\n",
       "1           1  2.92400  18.77300  15.849\n",
       "2           2  2.95300  18.85200  15.899\n",
       "3           3  3.00000  18.87000  15.870\n",
       "4           4  2.99000  18.93000  15.940"
      ]
     },
     "execution_count": 6,
     "metadata": {},
     "output_type": "execute_result"
    }
   ],
   "source": [
    "X.head()"
   ]
  },
  {
   "cell_type": "code",
   "execution_count": 8,
   "metadata": {},
   "outputs": [],
   "source": [
    "X_train,X_test,y_train,y_test=evalml.preprocessing.split_data(X,y,problem_type='regression')\n"
   ]
  },
  {
   "cell_type": "code",
   "execution_count": 9,
   "metadata": {},
   "outputs": [
    {
     "data": {
      "text/html": [
       "<div>\n",
       "<style scoped>\n",
       "    .dataframe tbody tr th:only-of-type {\n",
       "        vertical-align: middle;\n",
       "    }\n",
       "\n",
       "    .dataframe tbody tr th {\n",
       "        vertical-align: top;\n",
       "    }\n",
       "\n",
       "    .dataframe thead th {\n",
       "        text-align: right;\n",
       "    }\n",
       "</style>\n",
       "<table border=\"1\" class=\"dataframe\">\n",
       "  <thead>\n",
       "    <tr style=\"text-align: right;\">\n",
       "      <th></th>\n",
       "      <th>Unnamed: 0</th>\n",
       "      <th>tn12</th>\n",
       "      <th>tn13</th>\n",
       "      <th>tn13.1</th>\n",
       "    </tr>\n",
       "  </thead>\n",
       "  <tbody>\n",
       "    <tr>\n",
       "      <th>2729</th>\n",
       "      <td>2729</td>\n",
       "      <td>5.0</td>\n",
       "      <td>18.0</td>\n",
       "      <td>13.0</td>\n",
       "    </tr>\n",
       "    <tr>\n",
       "      <th>2976</th>\n",
       "      <td>2976</td>\n",
       "      <td>4.0</td>\n",
       "      <td>10.0</td>\n",
       "      <td>6.0</td>\n",
       "    </tr>\n",
       "    <tr>\n",
       "      <th>1458</th>\n",
       "      <td>1458</td>\n",
       "      <td>2.0</td>\n",
       "      <td>18.0</td>\n",
       "      <td>16.0</td>\n",
       "    </tr>\n",
       "    <tr>\n",
       "      <th>507</th>\n",
       "      <td>507</td>\n",
       "      <td>3.0</td>\n",
       "      <td>18.0</td>\n",
       "      <td>15.0</td>\n",
       "    </tr>\n",
       "    <tr>\n",
       "      <th>1564</th>\n",
       "      <td>1564</td>\n",
       "      <td>2.0</td>\n",
       "      <td>18.0</td>\n",
       "      <td>16.0</td>\n",
       "    </tr>\n",
       "  </tbody>\n",
       "</table>\n",
       "</div>"
      ],
      "text/plain": [
       "      Unnamed: 0  tn12  tn13  tn13.1\n",
       "2729        2729   5.0  18.0    13.0\n",
       "2976        2976   4.0  10.0     6.0\n",
       "1458        1458   2.0  18.0    16.0\n",
       "507          507   3.0  18.0    15.0\n",
       "1564        1564   2.0  18.0    16.0"
      ]
     },
     "execution_count": 9,
     "metadata": {},
     "output_type": "execute_result"
    }
   ],
   "source": [
    "X_train.head()"
   ]
  },
  {
   "cell_type": "code",
   "execution_count": 10,
   "metadata": {},
   "outputs": [
    {
     "name": "stdout",
     "output_type": "stream",
     "text": [
      "AutoMLSearch will use mean CV score to rank pipelines.\n",
      "Using default limit of max_batches=3.\n",
      "\n"
     ]
    }
   ],
   "source": [
    "from evalml import AutoMLSearch\n",
    "automl=AutoMLSearch(X_train=X_train,y_train=y_train,problem_type='regression', verbose=True)\n"
   ]
  },
  {
   "cell_type": "code",
   "execution_count": 11,
   "metadata": {},
   "outputs": [
    {
     "name": "stdout",
     "output_type": "stream",
     "text": [
      "\n",
      "*****************************\n",
      "* Beginning pipeline search *\n",
      "*****************************\n",
      "\n",
      "Optimizing for R2. \n",
      "Greater score is better.\n",
      "\n",
      "Using SequentialEngine to train and score pipelines.\n",
      "Searching up to 3 batches for a total of None pipelines. \n",
      "Allowed model families: \n",
      "\n",
      "Evaluating Baseline Pipeline: Mean Baseline Regression Pipeline\n",
      "Mean Baseline Regression Pipeline:\n",
      "\tStarting cross validation\n",
      "\tFinished cross validation - mean R2: -0.001\n",
      "\n",
      "*****************************\n",
      "* Evaluating Batch Number 1 *\n",
      "*****************************\n",
      "\n"
     ]
    },
    {
     "name": "stderr",
     "output_type": "stream",
     "text": [
      "c:\\Users\\rocks\\anaconda3\\envs\\test\\lib\\site-packages\\sklearn\\linear_model\\_coordinate_descent.py:648: ConvergenceWarning:\n",
      "\n",
      "Objective did not converge. You might want to increase the number of iterations, check the scale of the features or consider increasing regularisation. Duality gap: 7.079e-04, tolerance: 4.516e-04\n",
      "\n",
      "c:\\Users\\rocks\\anaconda3\\envs\\test\\lib\\site-packages\\sklearn\\linear_model\\_coordinate_descent.py:648: ConvergenceWarning:\n",
      "\n",
      "Objective did not converge. You might want to increase the number of iterations, check the scale of the features or consider increasing regularisation. Duality gap: 8.058e-04, tolerance: 4.487e-04\n",
      "\n"
     ]
    },
    {
     "name": "stdout",
     "output_type": "stream",
     "text": [
      "Elastic Net Regressor w/ Replace Nullable Types Transformer + Imputer + Standard Scaler:\n",
      "\tStarting cross validation\n",
      "\tFinished cross validation - mean R2: 0.729\n",
      "Random Forest Regressor w/ Replace Nullable Types Transformer + Imputer:\n",
      "\tStarting cross validation\n",
      "\tFinished cross validation - mean R2: 0.959\n",
      "\n",
      "*****************************\n",
      "* Evaluating Batch Number 2 *\n",
      "*****************************\n",
      "\n",
      "Elastic Net Regressor w/ Replace Nullable Types Transformer + Imputer + Standard Scaler + RF Regressor Select From Model:\n",
      "\tStarting cross validation\n",
      "\tFinished cross validation - mean R2: 0.701\n",
      "Random Forest Regressor w/ Replace Nullable Types Transformer + Imputer + RF Regressor Select From Model:\n",
      "\tStarting cross validation\n",
      "\tFinished cross validation - mean R2: 0.959\n",
      "\n",
      "*****************************\n",
      "* Evaluating Batch Number 3 *\n",
      "*****************************\n",
      "\n",
      "Decision Tree Regressor w/ Replace Nullable Types Transformer + Imputer + Select Columns Transformer:\n",
      "\tStarting cross validation\n",
      "\tFinished cross validation - mean R2: 0.947\n",
      "Extra Trees Regressor w/ Replace Nullable Types Transformer + Imputer + Select Columns Transformer:\n",
      "\tStarting cross validation\n",
      "\tFinished cross validation - mean R2: 0.914\n",
      "XGBoost Regressor w/ Replace Nullable Types Transformer + Imputer + Select Columns Transformer:\n",
      "\tStarting cross validation\n",
      "\tFinished cross validation - mean R2: 0.995\n",
      "CatBoost Regressor w/ Replace Nullable Types Transformer + Imputer + Select Columns Transformer:\n",
      "\tStarting cross validation\n",
      "\tFinished cross validation - mean R2: 0.377\n",
      "LightGBM Regressor w/ Replace Nullable Types Transformer + Imputer + Select Columns Transformer:\n",
      "\tStarting cross validation\n",
      "\tFinished cross validation - mean R2: 0.947\n",
      "\n",
      "Search finished after 00:08            \n",
      "Best pipeline: XGBoost Regressor w/ Replace Nullable Types Transformer + Imputer + Select Columns Transformer\n",
      "Best pipeline R2: 0.994530\n"
     ]
    },
    {
     "data": {
      "application/vnd.plotly.v1+json": {
       "config": {
        "plotlyServerURL": "https://plot.ly"
       },
       "data": [
        {
         "mode": "lines+markers",
         "name": "Best Score",
         "type": "scatter",
         "uid": "7ec809fa-aab4-4016-8413-be8e99299d13",
         "x": [
          0,
          1,
          2,
          3,
          4,
          5,
          6,
          7,
          8,
          9
         ],
         "y": [
          -0.0013317449153696554,
          0.7288878820068824,
          0.9590551319663202,
          0.9590551319663202,
          0.9590551319663202,
          0.9590551319663202,
          0.9590551319663202,
          0.9945298537544073,
          0.9945298537544073,
          0.9945298537544073
         ]
        },
        {
         "marker": {
          "color": "gray"
         },
         "mode": "markers",
         "name": "Iter score",
         "type": "scatter",
         "uid": "cb0e3152-2bb2-4739-b32a-493827c0cee8",
         "x": [
          0,
          1,
          2,
          3,
          4,
          5,
          6,
          7,
          8,
          9
         ],
         "y": [
          -0.0013317449153696554,
          0.7288878820068824,
          0.9590551319663202,
          0.7012474332110755,
          0.959043475064654,
          0.9469982046544351,
          0.9138712602985652,
          0.9945298537544073,
          0.3765531726754219,
          0.9474594198748787
         ]
        }
       ],
       "layout": {
        "showlegend": false,
        "template": {
         "data": {
          "bar": [
           {
            "error_x": {
             "color": "#2a3f5f"
            },
            "error_y": {
             "color": "#2a3f5f"
            },
            "marker": {
             "line": {
              "color": "#E5ECF6",
              "width": 0.5
             },
             "pattern": {
              "fillmode": "overlay",
              "size": 10,
              "solidity": 0.2
             }
            },
            "type": "bar"
           }
          ],
          "barpolar": [
           {
            "marker": {
             "line": {
              "color": "#E5ECF6",
              "width": 0.5
             },
             "pattern": {
              "fillmode": "overlay",
              "size": 10,
              "solidity": 0.2
             }
            },
            "type": "barpolar"
           }
          ],
          "carpet": [
           {
            "aaxis": {
             "endlinecolor": "#2a3f5f",
             "gridcolor": "white",
             "linecolor": "white",
             "minorgridcolor": "white",
             "startlinecolor": "#2a3f5f"
            },
            "baxis": {
             "endlinecolor": "#2a3f5f",
             "gridcolor": "white",
             "linecolor": "white",
             "minorgridcolor": "white",
             "startlinecolor": "#2a3f5f"
            },
            "type": "carpet"
           }
          ],
          "choropleth": [
           {
            "colorbar": {
             "outlinewidth": 0,
             "ticks": ""
            },
            "type": "choropleth"
           }
          ],
          "contour": [
           {
            "colorbar": {
             "outlinewidth": 0,
             "ticks": ""
            },
            "colorscale": [
             [
              0,
              "#0d0887"
             ],
             [
              0.1111111111111111,
              "#46039f"
             ],
             [
              0.2222222222222222,
              "#7201a8"
             ],
             [
              0.3333333333333333,
              "#9c179e"
             ],
             [
              0.4444444444444444,
              "#bd3786"
             ],
             [
              0.5555555555555556,
              "#d8576b"
             ],
             [
              0.6666666666666666,
              "#ed7953"
             ],
             [
              0.7777777777777778,
              "#fb9f3a"
             ],
             [
              0.8888888888888888,
              "#fdca26"
             ],
             [
              1,
              "#f0f921"
             ]
            ],
            "type": "contour"
           }
          ],
          "contourcarpet": [
           {
            "colorbar": {
             "outlinewidth": 0,
             "ticks": ""
            },
            "type": "contourcarpet"
           }
          ],
          "heatmap": [
           {
            "colorbar": {
             "outlinewidth": 0,
             "ticks": ""
            },
            "colorscale": [
             [
              0,
              "#0d0887"
             ],
             [
              0.1111111111111111,
              "#46039f"
             ],
             [
              0.2222222222222222,
              "#7201a8"
             ],
             [
              0.3333333333333333,
              "#9c179e"
             ],
             [
              0.4444444444444444,
              "#bd3786"
             ],
             [
              0.5555555555555556,
              "#d8576b"
             ],
             [
              0.6666666666666666,
              "#ed7953"
             ],
             [
              0.7777777777777778,
              "#fb9f3a"
             ],
             [
              0.8888888888888888,
              "#fdca26"
             ],
             [
              1,
              "#f0f921"
             ]
            ],
            "type": "heatmap"
           }
          ],
          "heatmapgl": [
           {
            "colorbar": {
             "outlinewidth": 0,
             "ticks": ""
            },
            "colorscale": [
             [
              0,
              "#0d0887"
             ],
             [
              0.1111111111111111,
              "#46039f"
             ],
             [
              0.2222222222222222,
              "#7201a8"
             ],
             [
              0.3333333333333333,
              "#9c179e"
             ],
             [
              0.4444444444444444,
              "#bd3786"
             ],
             [
              0.5555555555555556,
              "#d8576b"
             ],
             [
              0.6666666666666666,
              "#ed7953"
             ],
             [
              0.7777777777777778,
              "#fb9f3a"
             ],
             [
              0.8888888888888888,
              "#fdca26"
             ],
             [
              1,
              "#f0f921"
             ]
            ],
            "type": "heatmapgl"
           }
          ],
          "histogram": [
           {
            "marker": {
             "pattern": {
              "fillmode": "overlay",
              "size": 10,
              "solidity": 0.2
             }
            },
            "type": "histogram"
           }
          ],
          "histogram2d": [
           {
            "colorbar": {
             "outlinewidth": 0,
             "ticks": ""
            },
            "colorscale": [
             [
              0,
              "#0d0887"
             ],
             [
              0.1111111111111111,
              "#46039f"
             ],
             [
              0.2222222222222222,
              "#7201a8"
             ],
             [
              0.3333333333333333,
              "#9c179e"
             ],
             [
              0.4444444444444444,
              "#bd3786"
             ],
             [
              0.5555555555555556,
              "#d8576b"
             ],
             [
              0.6666666666666666,
              "#ed7953"
             ],
             [
              0.7777777777777778,
              "#fb9f3a"
             ],
             [
              0.8888888888888888,
              "#fdca26"
             ],
             [
              1,
              "#f0f921"
             ]
            ],
            "type": "histogram2d"
           }
          ],
          "histogram2dcontour": [
           {
            "colorbar": {
             "outlinewidth": 0,
             "ticks": ""
            },
            "colorscale": [
             [
              0,
              "#0d0887"
             ],
             [
              0.1111111111111111,
              "#46039f"
             ],
             [
              0.2222222222222222,
              "#7201a8"
             ],
             [
              0.3333333333333333,
              "#9c179e"
             ],
             [
              0.4444444444444444,
              "#bd3786"
             ],
             [
              0.5555555555555556,
              "#d8576b"
             ],
             [
              0.6666666666666666,
              "#ed7953"
             ],
             [
              0.7777777777777778,
              "#fb9f3a"
             ],
             [
              0.8888888888888888,
              "#fdca26"
             ],
             [
              1,
              "#f0f921"
             ]
            ],
            "type": "histogram2dcontour"
           }
          ],
          "mesh3d": [
           {
            "colorbar": {
             "outlinewidth": 0,
             "ticks": ""
            },
            "type": "mesh3d"
           }
          ],
          "parcoords": [
           {
            "line": {
             "colorbar": {
              "outlinewidth": 0,
              "ticks": ""
             }
            },
            "type": "parcoords"
           }
          ],
          "pie": [
           {
            "automargin": true,
            "type": "pie"
           }
          ],
          "scatter": [
           {
            "fillpattern": {
             "fillmode": "overlay",
             "size": 10,
             "solidity": 0.2
            },
            "type": "scatter"
           }
          ],
          "scatter3d": [
           {
            "line": {
             "colorbar": {
              "outlinewidth": 0,
              "ticks": ""
             }
            },
            "marker": {
             "colorbar": {
              "outlinewidth": 0,
              "ticks": ""
             }
            },
            "type": "scatter3d"
           }
          ],
          "scattercarpet": [
           {
            "marker": {
             "colorbar": {
              "outlinewidth": 0,
              "ticks": ""
             }
            },
            "type": "scattercarpet"
           }
          ],
          "scattergeo": [
           {
            "marker": {
             "colorbar": {
              "outlinewidth": 0,
              "ticks": ""
             }
            },
            "type": "scattergeo"
           }
          ],
          "scattergl": [
           {
            "marker": {
             "colorbar": {
              "outlinewidth": 0,
              "ticks": ""
             }
            },
            "type": "scattergl"
           }
          ],
          "scattermapbox": [
           {
            "marker": {
             "colorbar": {
              "outlinewidth": 0,
              "ticks": ""
             }
            },
            "type": "scattermapbox"
           }
          ],
          "scatterpolar": [
           {
            "marker": {
             "colorbar": {
              "outlinewidth": 0,
              "ticks": ""
             }
            },
            "type": "scatterpolar"
           }
          ],
          "scatterpolargl": [
           {
            "marker": {
             "colorbar": {
              "outlinewidth": 0,
              "ticks": ""
             }
            },
            "type": "scatterpolargl"
           }
          ],
          "scatterternary": [
           {
            "marker": {
             "colorbar": {
              "outlinewidth": 0,
              "ticks": ""
             }
            },
            "type": "scatterternary"
           }
          ],
          "surface": [
           {
            "colorbar": {
             "outlinewidth": 0,
             "ticks": ""
            },
            "colorscale": [
             [
              0,
              "#0d0887"
             ],
             [
              0.1111111111111111,
              "#46039f"
             ],
             [
              0.2222222222222222,
              "#7201a8"
             ],
             [
              0.3333333333333333,
              "#9c179e"
             ],
             [
              0.4444444444444444,
              "#bd3786"
             ],
             [
              0.5555555555555556,
              "#d8576b"
             ],
             [
              0.6666666666666666,
              "#ed7953"
             ],
             [
              0.7777777777777778,
              "#fb9f3a"
             ],
             [
              0.8888888888888888,
              "#fdca26"
             ],
             [
              1,
              "#f0f921"
             ]
            ],
            "type": "surface"
           }
          ],
          "table": [
           {
            "cells": {
             "fill": {
              "color": "#EBF0F8"
             },
             "line": {
              "color": "white"
             }
            },
            "header": {
             "fill": {
              "color": "#C8D4E3"
             },
             "line": {
              "color": "white"
             }
            },
            "type": "table"
           }
          ]
         },
         "layout": {
          "annotationdefaults": {
           "arrowcolor": "#2a3f5f",
           "arrowhead": 0,
           "arrowwidth": 1
          },
          "autotypenumbers": "strict",
          "coloraxis": {
           "colorbar": {
            "outlinewidth": 0,
            "ticks": ""
           }
          },
          "colorscale": {
           "diverging": [
            [
             0,
             "#8e0152"
            ],
            [
             0.1,
             "#c51b7d"
            ],
            [
             0.2,
             "#de77ae"
            ],
            [
             0.3,
             "#f1b6da"
            ],
            [
             0.4,
             "#fde0ef"
            ],
            [
             0.5,
             "#f7f7f7"
            ],
            [
             0.6,
             "#e6f5d0"
            ],
            [
             0.7,
             "#b8e186"
            ],
            [
             0.8,
             "#7fbc41"
            ],
            [
             0.9,
             "#4d9221"
            ],
            [
             1,
             "#276419"
            ]
           ],
           "sequential": [
            [
             0,
             "#0d0887"
            ],
            [
             0.1111111111111111,
             "#46039f"
            ],
            [
             0.2222222222222222,
             "#7201a8"
            ],
            [
             0.3333333333333333,
             "#9c179e"
            ],
            [
             0.4444444444444444,
             "#bd3786"
            ],
            [
             0.5555555555555556,
             "#d8576b"
            ],
            [
             0.6666666666666666,
             "#ed7953"
            ],
            [
             0.7777777777777778,
             "#fb9f3a"
            ],
            [
             0.8888888888888888,
             "#fdca26"
            ],
            [
             1,
             "#f0f921"
            ]
           ],
           "sequentialminus": [
            [
             0,
             "#0d0887"
            ],
            [
             0.1111111111111111,
             "#46039f"
            ],
            [
             0.2222222222222222,
             "#7201a8"
            ],
            [
             0.3333333333333333,
             "#9c179e"
            ],
            [
             0.4444444444444444,
             "#bd3786"
            ],
            [
             0.5555555555555556,
             "#d8576b"
            ],
            [
             0.6666666666666666,
             "#ed7953"
            ],
            [
             0.7777777777777778,
             "#fb9f3a"
            ],
            [
             0.8888888888888888,
             "#fdca26"
            ],
            [
             1,
             "#f0f921"
            ]
           ]
          },
          "colorway": [
           "#636efa",
           "#EF553B",
           "#00cc96",
           "#ab63fa",
           "#FFA15A",
           "#19d3f3",
           "#FF6692",
           "#B6E880",
           "#FF97FF",
           "#FECB52"
          ],
          "font": {
           "color": "#2a3f5f"
          },
          "geo": {
           "bgcolor": "white",
           "lakecolor": "white",
           "landcolor": "#E5ECF6",
           "showlakes": true,
           "showland": true,
           "subunitcolor": "white"
          },
          "hoverlabel": {
           "align": "left"
          },
          "hovermode": "closest",
          "mapbox": {
           "style": "light"
          },
          "paper_bgcolor": "white",
          "plot_bgcolor": "#E5ECF6",
          "polar": {
           "angularaxis": {
            "gridcolor": "white",
            "linecolor": "white",
            "ticks": ""
           },
           "bgcolor": "#E5ECF6",
           "radialaxis": {
            "gridcolor": "white",
            "linecolor": "white",
            "ticks": ""
           }
          },
          "scene": {
           "xaxis": {
            "backgroundcolor": "#E5ECF6",
            "gridcolor": "white",
            "gridwidth": 2,
            "linecolor": "white",
            "showbackground": true,
            "ticks": "",
            "zerolinecolor": "white"
           },
           "yaxis": {
            "backgroundcolor": "#E5ECF6",
            "gridcolor": "white",
            "gridwidth": 2,
            "linecolor": "white",
            "showbackground": true,
            "ticks": "",
            "zerolinecolor": "white"
           },
           "zaxis": {
            "backgroundcolor": "#E5ECF6",
            "gridcolor": "white",
            "gridwidth": 2,
            "linecolor": "white",
            "showbackground": true,
            "ticks": "",
            "zerolinecolor": "white"
           }
          },
          "shapedefaults": {
           "line": {
            "color": "#2a3f5f"
           }
          },
          "ternary": {
           "aaxis": {
            "gridcolor": "white",
            "linecolor": "white",
            "ticks": ""
           },
           "baxis": {
            "gridcolor": "white",
            "linecolor": "white",
            "ticks": ""
           },
           "bgcolor": "#E5ECF6",
           "caxis": {
            "gridcolor": "white",
            "linecolor": "white",
            "ticks": ""
           }
          },
          "title": {
           "x": 0.05
          },
          "xaxis": {
           "automargin": true,
           "gridcolor": "white",
           "linecolor": "white",
           "ticks": "",
           "title": {
            "standoff": 15
           },
           "zerolinecolor": "white",
           "zerolinewidth": 2
          },
          "yaxis": {
           "automargin": true,
           "gridcolor": "white",
           "linecolor": "white",
           "ticks": "",
           "title": {
            "standoff": 15
           },
           "zerolinecolor": "white",
           "zerolinewidth": 2
          }
         }
        },
        "title": {
         "text": "Pipeline Search: Iteration vs. R2<br><sub>Gray marker indicates the score at current iteration</sub>"
        },
        "xaxis": {
         "rangemode": "tozero",
         "title": {
          "text": "Iteration"
         }
        },
        "yaxis": {
         "title": {
          "text": "Validation Score"
         }
        }
       }
      }
     },
     "metadata": {},
     "output_type": "display_data"
    },
    {
     "data": {
      "text/plain": [
       "{1: {'Elastic Net Regressor w/ Replace Nullable Types Transformer + Imputer + Standard Scaler': '00:00',\n",
       "  'Random Forest Regressor w/ Replace Nullable Types Transformer + Imputer': '00:00',\n",
       "  'Total time of batch': '00:01'},\n",
       " 2: {'Elastic Net Regressor w/ Replace Nullable Types Transformer + Imputer + Standard Scaler + RF Regressor Select From Model': '00:00',\n",
       "  'Random Forest Regressor w/ Replace Nullable Types Transformer + Imputer + RF Regressor Select From Model': '00:01',\n",
       "  'Total time of batch': '00:01'},\n",
       " 3: {'Decision Tree Regressor w/ Replace Nullable Types Transformer + Imputer + Select Columns Transformer': '00:00',\n",
       "  'Extra Trees Regressor w/ Replace Nullable Types Transformer + Imputer + Select Columns Transformer': '00:00',\n",
       "  'XGBoost Regressor w/ Replace Nullable Types Transformer + Imputer + Select Columns Transformer': '00:01',\n",
       "  'CatBoost Regressor w/ Replace Nullable Types Transformer + Imputer + Select Columns Transformer': '00:00',\n",
       "  'LightGBM Regressor w/ Replace Nullable Types Transformer + Imputer + Select Columns Transformer': '00:00',\n",
       "  'Total time of batch': '00:04'}}"
      ]
     },
     "execution_count": 11,
     "metadata": {},
     "output_type": "execute_result"
    }
   ],
   "source": [
    "automl.search(interactive_plot=False)"
   ]
  },
  {
   "cell_type": "code",
   "execution_count": 12,
   "metadata": {},
   "outputs": [
    {
     "data": {
      "text/html": [
       "<div>\n",
       "<style scoped>\n",
       "    .dataframe tbody tr th:only-of-type {\n",
       "        vertical-align: middle;\n",
       "    }\n",
       "\n",
       "    .dataframe tbody tr th {\n",
       "        vertical-align: top;\n",
       "    }\n",
       "\n",
       "    .dataframe thead th {\n",
       "        text-align: right;\n",
       "    }\n",
       "</style>\n",
       "<table border=\"1\" class=\"dataframe\">\n",
       "  <thead>\n",
       "    <tr style=\"text-align: right;\">\n",
       "      <th></th>\n",
       "      <th>id</th>\n",
       "      <th>pipeline_name</th>\n",
       "      <th>search_order</th>\n",
       "      <th>validation_score</th>\n",
       "      <th>mean_cv_score</th>\n",
       "      <th>standard_deviation_cv_score</th>\n",
       "      <th>percent_better_than_baseline</th>\n",
       "      <th>high_variance_cv</th>\n",
       "      <th>parameters</th>\n",
       "    </tr>\n",
       "  </thead>\n",
       "  <tbody>\n",
       "    <tr>\n",
       "      <th>0</th>\n",
       "      <td>7</td>\n",
       "      <td>XGBoost Regressor w/ Replace Nullable Types Tr...</td>\n",
       "      <td>7</td>\n",
       "      <td>0.994530</td>\n",
       "      <td>0.994530</td>\n",
       "      <td>0.001321</td>\n",
       "      <td>74778.704779</td>\n",
       "      <td>False</td>\n",
       "      <td>{'Imputer': {'categorical_impute_strategy': 'm...</td>\n",
       "    </tr>\n",
       "    <tr>\n",
       "      <th>1</th>\n",
       "      <td>2</td>\n",
       "      <td>Random Forest Regressor w/ Replace Nullable Ty...</td>\n",
       "      <td>2</td>\n",
       "      <td>0.959055</td>\n",
       "      <td>0.959055</td>\n",
       "      <td>0.001546</td>\n",
       "      <td>72114.927251</td>\n",
       "      <td>False</td>\n",
       "      <td>{'Imputer': {'categorical_impute_strategy': 'm...</td>\n",
       "    </tr>\n",
       "    <tr>\n",
       "      <th>2</th>\n",
       "      <td>4</td>\n",
       "      <td>Random Forest Regressor w/ Replace Nullable Ty...</td>\n",
       "      <td>4</td>\n",
       "      <td>0.959043</td>\n",
       "      <td>0.959043</td>\n",
       "      <td>0.004265</td>\n",
       "      <td>72114.051940</td>\n",
       "      <td>False</td>\n",
       "      <td>{'Imputer': {'categorical_impute_strategy': 'm...</td>\n",
       "    </tr>\n",
       "    <tr>\n",
       "      <th>3</th>\n",
       "      <td>9</td>\n",
       "      <td>LightGBM Regressor w/ Replace Nullable Types T...</td>\n",
       "      <td>9</td>\n",
       "      <td>0.947459</td>\n",
       "      <td>0.947459</td>\n",
       "      <td>0.008159</td>\n",
       "      <td>71244.211548</td>\n",
       "      <td>False</td>\n",
       "      <td>{'Imputer': {'categorical_impute_strategy': 'm...</td>\n",
       "    </tr>\n",
       "    <tr>\n",
       "      <th>4</th>\n",
       "      <td>5</td>\n",
       "      <td>Decision Tree Regressor w/ Replace Nullable Ty...</td>\n",
       "      <td>5</td>\n",
       "      <td>0.946998</td>\n",
       "      <td>0.946998</td>\n",
       "      <td>0.011924</td>\n",
       "      <td>71209.579149</td>\n",
       "      <td>False</td>\n",
       "      <td>{'Imputer': {'categorical_impute_strategy': 'm...</td>\n",
       "    </tr>\n",
       "    <tr>\n",
       "      <th>5</th>\n",
       "      <td>6</td>\n",
       "      <td>Extra Trees Regressor w/ Replace Nullable Type...</td>\n",
       "      <td>6</td>\n",
       "      <td>0.913871</td>\n",
       "      <td>0.913871</td>\n",
       "      <td>0.013171</td>\n",
       "      <td>68722.094949</td>\n",
       "      <td>False</td>\n",
       "      <td>{'Imputer': {'categorical_impute_strategy': 'm...</td>\n",
       "    </tr>\n",
       "    <tr>\n",
       "      <th>6</th>\n",
       "      <td>1</td>\n",
       "      <td>Elastic Net Regressor w/ Replace Nullable Type...</td>\n",
       "      <td>1</td>\n",
       "      <td>0.728888</td>\n",
       "      <td>0.728888</td>\n",
       "      <td>0.087514</td>\n",
       "      <td>54831.793874</td>\n",
       "      <td>False</td>\n",
       "      <td>{'Imputer': {'categorical_impute_strategy': 'm...</td>\n",
       "    </tr>\n",
       "    <tr>\n",
       "      <th>7</th>\n",
       "      <td>3</td>\n",
       "      <td>Elastic Net Regressor w/ Replace Nullable Type...</td>\n",
       "      <td>3</td>\n",
       "      <td>0.701247</td>\n",
       "      <td>0.701247</td>\n",
       "      <td>0.101758</td>\n",
       "      <td>52756.287636</td>\n",
       "      <td>False</td>\n",
       "      <td>{'Imputer': {'categorical_impute_strategy': 'm...</td>\n",
       "    </tr>\n",
       "    <tr>\n",
       "      <th>8</th>\n",
       "      <td>8</td>\n",
       "      <td>CatBoost Regressor w/ Replace Nullable Types T...</td>\n",
       "      <td>8</td>\n",
       "      <td>0.376553</td>\n",
       "      <td>0.376553</td>\n",
       "      <td>0.007185</td>\n",
       "      <td>28375.172545</td>\n",
       "      <td>False</td>\n",
       "      <td>{'Imputer': {'categorical_impute_strategy': 'm...</td>\n",
       "    </tr>\n",
       "    <tr>\n",
       "      <th>9</th>\n",
       "      <td>0</td>\n",
       "      <td>Mean Baseline Regression Pipeline</td>\n",
       "      <td>0</td>\n",
       "      <td>-0.001332</td>\n",
       "      <td>-0.001332</td>\n",
       "      <td>0.001241</td>\n",
       "      <td>0.000000</td>\n",
       "      <td>False</td>\n",
       "      <td>{'Baseline Regressor': {'strategy': 'mean'}}</td>\n",
       "    </tr>\n",
       "  </tbody>\n",
       "</table>\n",
       "</div>"
      ],
      "text/plain": [
       "   id                                      pipeline_name  search_order  \\\n",
       "0   7  XGBoost Regressor w/ Replace Nullable Types Tr...             7   \n",
       "1   2  Random Forest Regressor w/ Replace Nullable Ty...             2   \n",
       "2   4  Random Forest Regressor w/ Replace Nullable Ty...             4   \n",
       "3   9  LightGBM Regressor w/ Replace Nullable Types T...             9   \n",
       "4   5  Decision Tree Regressor w/ Replace Nullable Ty...             5   \n",
       "5   6  Extra Trees Regressor w/ Replace Nullable Type...             6   \n",
       "6   1  Elastic Net Regressor w/ Replace Nullable Type...             1   \n",
       "7   3  Elastic Net Regressor w/ Replace Nullable Type...             3   \n",
       "8   8  CatBoost Regressor w/ Replace Nullable Types T...             8   \n",
       "9   0                  Mean Baseline Regression Pipeline             0   \n",
       "\n",
       "   validation_score  mean_cv_score  standard_deviation_cv_score  \\\n",
       "0          0.994530       0.994530                     0.001321   \n",
       "1          0.959055       0.959055                     0.001546   \n",
       "2          0.959043       0.959043                     0.004265   \n",
       "3          0.947459       0.947459                     0.008159   \n",
       "4          0.946998       0.946998                     0.011924   \n",
       "5          0.913871       0.913871                     0.013171   \n",
       "6          0.728888       0.728888                     0.087514   \n",
       "7          0.701247       0.701247                     0.101758   \n",
       "8          0.376553       0.376553                     0.007185   \n",
       "9         -0.001332      -0.001332                     0.001241   \n",
       "\n",
       "   percent_better_than_baseline  high_variance_cv  \\\n",
       "0                  74778.704779             False   \n",
       "1                  72114.927251             False   \n",
       "2                  72114.051940             False   \n",
       "3                  71244.211548             False   \n",
       "4                  71209.579149             False   \n",
       "5                  68722.094949             False   \n",
       "6                  54831.793874             False   \n",
       "7                  52756.287636             False   \n",
       "8                  28375.172545             False   \n",
       "9                      0.000000             False   \n",
       "\n",
       "                                          parameters  \n",
       "0  {'Imputer': {'categorical_impute_strategy': 'm...  \n",
       "1  {'Imputer': {'categorical_impute_strategy': 'm...  \n",
       "2  {'Imputer': {'categorical_impute_strategy': 'm...  \n",
       "3  {'Imputer': {'categorical_impute_strategy': 'm...  \n",
       "4  {'Imputer': {'categorical_impute_strategy': 'm...  \n",
       "5  {'Imputer': {'categorical_impute_strategy': 'm...  \n",
       "6  {'Imputer': {'categorical_impute_strategy': 'm...  \n",
       "7  {'Imputer': {'categorical_impute_strategy': 'm...  \n",
       "8  {'Imputer': {'categorical_impute_strategy': 'm...  \n",
       "9       {'Baseline Regressor': {'strategy': 'mean'}}  "
      ]
     },
     "execution_count": 12,
     "metadata": {},
     "output_type": "execute_result"
    }
   ],
   "source": [
    "automl.rankings"
   ]
  },
  {
   "cell_type": "code",
   "execution_count": 13,
   "metadata": {},
   "outputs": [
    {
     "data": {
      "text/plain": [
       "pipeline = RegressionPipeline(component_graph={'Replace Nullable Types Transformer': ['Replace Nullable Types Transformer', 'X', 'y'], 'Imputer': ['Imputer', 'Replace Nullable Types Transformer.x', 'Replace Nullable Types Transformer.y'], 'Select Columns Transformer': ['Select Columns Transformer', 'Imputer.x', 'Replace Nullable Types Transformer.y'], 'XGBoost Regressor': ['XGBoost Regressor', 'Select Columns Transformer.x', 'Replace Nullable Types Transformer.y']}, parameters={'Imputer':{'categorical_impute_strategy': 'most_frequent', 'numeric_impute_strategy': 'mean', 'boolean_impute_strategy': 'most_frequent', 'categorical_fill_value': None, 'numeric_fill_value': None, 'boolean_fill_value': None}, 'Select Columns Transformer':{'columns': ['Unnamed: 0', 'tn13']}, 'XGBoost Regressor':{'eta': 0.1, 'max_depth': 6, 'min_child_weight': 1, 'n_estimators': 100, 'n_jobs': -1}}, random_seed=0)"
      ]
     },
     "execution_count": 13,
     "metadata": {},
     "output_type": "execute_result"
    }
   ],
   "source": [
    "automl.best_pipeline"
   ]
  },
  {
   "cell_type": "code",
   "execution_count": 14,
   "metadata": {},
   "outputs": [],
   "source": [
    "best_pipeline = automl.best_pipeline"
   ]
  },
  {
   "cell_type": "code",
   "execution_count": 26,
   "metadata": {},
   "outputs": [
    {
     "name": "stdout",
     "output_type": "stream",
     "text": [
      "\n",
      "**************************************************************************************************\n",
      "* XGBoost Regressor w/ Replace Nullable Types Transformer + Imputer + Select Columns Transformer *\n",
      "**************************************************************************************************\n",
      "\n",
      "Problem Type: regression\n",
      "Model Family: XGBoost\n",
      "\n",
      "Pipeline Steps\n",
      "==============\n",
      "1. Replace Nullable Types Transformer\n",
      "2. Imputer\n",
      "\t * categorical_impute_strategy : most_frequent\n",
      "\t * numeric_impute_strategy : mean\n",
      "\t * boolean_impute_strategy : most_frequent\n",
      "\t * categorical_fill_value : None\n",
      "\t * numeric_fill_value : None\n",
      "\t * boolean_fill_value : None\n",
      "3. Select Columns Transformer\n",
      "\t * columns : ['Unnamed: 0', 'tn13']\n",
      "4. XGBoost Regressor\n",
      "\t * eta : 0.1\n",
      "\t * max_depth : 6\n",
      "\t * min_child_weight : 1\n",
      "\t * n_estimators : 100\n",
      "\t * n_jobs : -1\n",
      "\n",
      "Training\n",
      "========\n",
      "Training for regression problems.\n",
      "Total training time (including CV): 1.9 seconds\n",
      "\n",
      "Cross Validation\n",
      "----------------\n",
      "               R2  ExpVariance  MaxError  MedianAE   MSE   MAE  Root Mean Squared Error # Training # Validation\n",
      "0           0.995        0.995     0.034     0.001 0.000 0.002                    0.003      2,931        1,466\n",
      "1           0.993        0.993     0.044     0.001 0.000 0.002                    0.003      2,931        1,466\n",
      "2           0.996        0.996     0.017     0.001 0.000 0.002                    0.002      2,932        1,465\n",
      "mean        0.995        0.995     0.032     0.001 0.000 0.002                    0.003          -            -\n",
      "std         0.001        0.001     0.014     0.000 0.000 0.000                    0.000          -            -\n",
      "coef of var 0.001        0.001     0.430     0.040 0.298 0.079                    0.152          -            -\n"
     ]
    }
   ],
   "source": [
    "automl.describe_pipeline(7)"
   ]
  },
  {
   "cell_type": "code",
   "execution_count": 21,
   "metadata": {},
   "outputs": [
    {
     "data": {
      "text/plain": [
       "OrderedDict([('Root Mean Squared Error', 0.002640147325949338)])"
      ]
     },
     "execution_count": 21,
     "metadata": {},
     "output_type": "execute_result"
    }
   ],
   "source": [
    "best_pipeline.score(X_test, y_test, objectives=[ 'root mean squared error'])"
   ]
  },
  {
   "cell_type": "code",
   "execution_count": 20,
   "metadata": {},
   "outputs": [
    {
     "data": {
      "text/plain": [
       "['expvariance',\n",
       " 'maxerror',\n",
       " 'medianae',\n",
       " 'mse',\n",
       " 'mae',\n",
       " 'r2',\n",
       " 'mean squared log error',\n",
       " 'root mean squared log error',\n",
       " 'root mean squared error',\n",
       " 'mean absolute percentage error',\n",
       " 'mcc multiclass',\n",
       " 'log loss multiclass',\n",
       " 'auc weighted',\n",
       " 'auc macro',\n",
       " 'auc micro',\n",
       " 'recall weighted',\n",
       " 'recall macro',\n",
       " 'recall micro',\n",
       " 'precision weighted',\n",
       " 'precision macro',\n",
       " 'precision micro',\n",
       " 'f1 weighted',\n",
       " 'f1 macro',\n",
       " 'f1 micro',\n",
       " 'balanced accuracy multiclass',\n",
       " 'accuracy multiclass',\n",
       " 'mcc binary',\n",
       " 'log loss binary',\n",
       " 'gini',\n",
       " 'auc',\n",
       " 'recall',\n",
       " 'precision',\n",
       " 'f1',\n",
       " 'balanced accuracy binary',\n",
       " 'accuracy binary',\n",
       " 'sensitivity at low alert rates',\n",
       " 'lead scoring',\n",
       " 'fraud cost',\n",
       " 'cost benefit matrix']"
      ]
     },
     "execution_count": 20,
     "metadata": {},
     "output_type": "execute_result"
    }
   ],
   "source": [
    "evalml.objectives.get_all_objective_names()"
   ]
  },
  {
   "cell_type": "code",
   "execution_count": 22,
   "metadata": {},
   "outputs": [],
   "source": [
    "best_pipeline.save('model.pkl')"
   ]
  },
  {
   "cell_type": "code",
   "execution_count": 31,
   "metadata": {},
   "outputs": [
    {
     "data": {
      "text/plain": [
       "1294    0.962729\n",
       "5321    0.908424\n",
       "3842    0.949698\n",
       "3553    0.963908\n",
       "15      0.972679\n",
       "          ...   \n",
       "1567    0.949923\n",
       "3667    0.957140\n",
       "5493    0.802611\n",
       "4579    0.974851\n",
       "1826    0.930770\n",
       "Name: SoH, Length: 1100, dtype: float64"
      ]
     },
     "execution_count": 31,
     "metadata": {},
     "output_type": "execute_result"
    }
   ],
   "source": [
    "model = automl.load('model.pkl')\n",
    "model.predict(X_test)"
   ]
  },
  {
   "cell_type": "code",
   "execution_count": 27,
   "metadata": {},
   "outputs": [
    {
     "data": {
      "text/plain": [
       "OrderedDict([('R2', 0.9952560920150003)])"
      ]
     },
     "execution_count": 27,
     "metadata": {},
     "output_type": "execute_result"
    }
   ],
   "source": [
    "best_pipeline.score(X_test, y_test, objectives=[ 'R2'])"
   ]
  },
  {
   "cell_type": "code",
   "execution_count": 29,
   "metadata": {},
   "outputs": [
    {
     "data": {
      "image/svg+xml": "<?xml version=\"1.0\" encoding=\"UTF-8\" standalone=\"no\"?>\n<!DOCTYPE svg PUBLIC \"-//W3C//DTD SVG 1.1//EN\"\n \"http://www.w3.org/Graphics/SVG/1.1/DTD/svg11.dtd\">\n<!-- Generated by graphviz version 2.50.0 (0)\n -->\n<!-- Pages: 1 -->\n<svg width=\"990pt\" height=\"224pt\"\n viewBox=\"0.00 0.00 990.00 223.50\" xmlns=\"http://www.w3.org/2000/svg\" xmlns:xlink=\"http://www.w3.org/1999/xlink\">\n<g id=\"graph0\" class=\"graph\" transform=\"scale(1 1) rotate(0) translate(4 219.5)\">\n<polygon fill=\"white\" stroke=\"transparent\" points=\"-4,4 -4,-219.5 986,-219.5 986,4 -4,4\"/>\n<!-- Replace Nullable Types Transformer -->\n<g id=\"node1\" class=\"node\">\n<title>Replace Nullable Types Transformer</title>\n<polygon fill=\"none\" stroke=\"black\" points=\"72,-86 72,-133 289,-133 289,-86 72,-86\"/>\n<text text-anchor=\"middle\" x=\"180.5\" y=\"-117.8\" font-family=\"Times New Roman,serif\" font-size=\"14.00\">Replace Nullable Types Transformer</text>\n<polyline fill=\"none\" stroke=\"black\" points=\"72,-110 289,-110 \"/>\n</g>\n<!-- Imputer -->\n<g id=\"node2\" class=\"node\">\n<title>Imputer</title>\n<polygon fill=\"none\" stroke=\"black\" points=\"325,-94 325,-215 585,-215 585,-94 325,-94\"/>\n<text text-anchor=\"middle\" x=\"455\" y=\"-199.8\" font-family=\"Times New Roman,serif\" font-size=\"14.00\">Imputer</text>\n<polyline fill=\"none\" stroke=\"black\" points=\"325,-192 585,-192 \"/>\n<text text-anchor=\"start\" x=\"333\" y=\"-176.8\" font-family=\"Times New Roman,serif\" font-size=\"14.00\">categorical_impute_strategy : most_frequent</text>\n<text text-anchor=\"start\" x=\"333\" y=\"-161.8\" font-family=\"Times New Roman,serif\" font-size=\"14.00\">numeric_impute_strategy : mean</text>\n<text text-anchor=\"start\" x=\"333\" y=\"-146.8\" font-family=\"Times New Roman,serif\" font-size=\"14.00\">boolean_impute_strategy : most_frequent</text>\n<text text-anchor=\"start\" x=\"333\" y=\"-131.8\" font-family=\"Times New Roman,serif\" font-size=\"14.00\">categorical_fill_value : None</text>\n<text text-anchor=\"start\" x=\"333\" y=\"-116.8\" font-family=\"Times New Roman,serif\" font-size=\"14.00\">numeric_fill_value : None</text>\n<text text-anchor=\"start\" x=\"333\" y=\"-101.8\" font-family=\"Times New Roman,serif\" font-size=\"14.00\">boolean_fill_value : None</text>\n</g>\n<!-- Replace Nullable Types Transformer&#45;&gt;Imputer -->\n<g id=\"edge1\" class=\"edge\">\n<title>Replace Nullable Types Transformer&#45;&gt;Imputer</title>\n<path fill=\"none\" stroke=\"black\" d=\"M289.2,-120.67C297.65,-121.98 306.25,-123.36 314.86,-124.77\"/>\n<polygon fill=\"black\" stroke=\"black\" points=\"314.54,-128.27 324.98,-126.45 315.68,-121.36 314.54,-128.27\"/>\n</g>\n<!-- Replace Nullable Types Transformer&#45;&gt;Imputer -->\n<g id=\"edge5\" class=\"edge\">\n<title>Replace Nullable Types Transformer&#45;&gt;Imputer</title>\n<path fill=\"none\" stroke=\"black\" stroke-dasharray=\"1,5\" d=\"M284.13,-133.01C294.19,-134.79 304.52,-136.55 314.86,-138.27\"/>\n<polygon fill=\"black\" stroke=\"black\" points=\"314.34,-141.73 324.78,-139.9 315.48,-134.83 314.34,-141.73\"/>\n</g>\n<!-- Select Columns Transformer -->\n<g id=\"node3\" class=\"node\">\n<title>Select Columns Transformer</title>\n<polygon fill=\"none\" stroke=\"black\" points=\"621,-56.5 621,-102.5 812,-102.5 812,-56.5 621,-56.5\"/>\n<text text-anchor=\"middle\" x=\"716.5\" y=\"-87.3\" font-family=\"Times New Roman,serif\" font-size=\"14.00\">Select Columns Transformer</text>\n<polyline fill=\"none\" stroke=\"black\" points=\"621,-79.5 812,-79.5 \"/>\n<text text-anchor=\"start\" x=\"629\" y=\"-64.3\" font-family=\"Times New Roman,serif\" font-size=\"14.00\">columns : [&#39;Unnamed: 0&#39;, &#39;tn13&#39;]</text>\n</g>\n<!-- Replace Nullable Types Transformer&#45;&gt;Select Columns Transformer -->\n<g id=\"edge6\" class=\"edge\">\n<title>Replace Nullable Types Transformer&#45;&gt;Select Columns Transformer</title>\n<path fill=\"none\" stroke=\"black\" stroke-dasharray=\"1,5\" d=\"M289.38,-88.8C301.36,-87.07 313.42,-85.58 325,-84.5 421.43,-75.54 531.82,-75.02 610.57,-76.32\"/>\n<polygon fill=\"black\" stroke=\"black\" points=\"610.93,-79.82 620.99,-76.5 611.05,-72.82 610.93,-79.82\"/>\n</g>\n<!-- XGBoost Regressor -->\n<g id=\"node4\" class=\"node\">\n<title>XGBoost Regressor</title>\n<polygon fill=\"none\" stroke=\"black\" points=\"848,-0.5 848,-106.5 982,-106.5 982,-0.5 848,-0.5\"/>\n<text text-anchor=\"middle\" x=\"915\" y=\"-91.3\" font-family=\"Times New Roman,serif\" font-size=\"14.00\">XGBoost Regressor</text>\n<polyline fill=\"none\" stroke=\"black\" points=\"848,-83.5 982,-83.5 \"/>\n<text text-anchor=\"start\" x=\"856\" y=\"-68.3\" font-family=\"Times New Roman,serif\" font-size=\"14.00\">eta : 0.10</text>\n<text text-anchor=\"start\" x=\"856\" y=\"-53.3\" font-family=\"Times New Roman,serif\" font-size=\"14.00\">max_depth : 6</text>\n<text text-anchor=\"start\" x=\"856\" y=\"-38.3\" font-family=\"Times New Roman,serif\" font-size=\"14.00\">min_child_weight : 1</text>\n<text text-anchor=\"start\" x=\"856\" y=\"-23.3\" font-family=\"Times New Roman,serif\" font-size=\"14.00\">n_estimators : 100</text>\n<text text-anchor=\"start\" x=\"856\" y=\"-8.3\" font-family=\"Times New Roman,serif\" font-size=\"14.00\">n_jobs : &#45;1</text>\n</g>\n<!-- Replace Nullable Types Transformer&#45;&gt;XGBoost Regressor -->\n<g id=\"edge7\" class=\"edge\">\n<title>Replace Nullable Types Transformer&#45;&gt;XGBoost Regressor</title>\n<path fill=\"none\" stroke=\"black\" stroke-dasharray=\"1,5\" d=\"M263.33,-85.92C283.36,-80.84 304.84,-75.96 325,-72.5 538.63,-35.83 595.37,-39.08 812,-46.5 820.35,-46.79 829.08,-47.2 837.77,-47.7\"/>\n<polygon fill=\"black\" stroke=\"black\" points=\"837.73,-51.2 847.92,-48.3 838.14,-44.21 837.73,-51.2\"/>\n</g>\n<!-- Imputer&#45;&gt;Select Columns Transformer -->\n<g id=\"edge2\" class=\"edge\">\n<title>Imputer&#45;&gt;Select Columns Transformer</title>\n<path fill=\"none\" stroke=\"black\" d=\"M585.37,-117.11C599.03,-113.16 612.69,-109.21 625.75,-105.44\"/>\n<polygon fill=\"black\" stroke=\"black\" points=\"626.98,-108.73 635.62,-102.59 625.04,-102 626.98,-108.73\"/>\n</g>\n<!-- Select Columns Transformer&#45;&gt;XGBoost Regressor -->\n<g id=\"edge3\" class=\"edge\">\n<title>Select Columns Transformer&#45;&gt;XGBoost Regressor</title>\n<path fill=\"none\" stroke=\"black\" d=\"M812.01,-67C820.61,-65.86 829.24,-64.71 837.65,-63.6\"/>\n<polygon fill=\"black\" stroke=\"black\" points=\"838.33,-67.04 847.78,-62.26 837.41,-60.1 838.33,-67.04\"/>\n</g>\n<!-- X -->\n<g id=\"node5\" class=\"node\">\n<title>X</title>\n<ellipse fill=\"none\" stroke=\"black\" cx=\"18\" cy=\"-136.5\" rx=\"18\" ry=\"18\"/>\n<text text-anchor=\"middle\" x=\"18\" y=\"-132.8\" font-family=\"Times New Roman,serif\" font-size=\"14.00\">X</text>\n</g>\n<!-- X&#45;&gt;Replace Nullable Types Transformer -->\n<g id=\"edge4\" class=\"edge\">\n<title>X&#45;&gt;Replace Nullable Types Transformer</title>\n<path fill=\"none\" stroke=\"black\" d=\"M35.87,-133.66C42.94,-132.47 51.8,-130.98 61.63,-129.33\"/>\n<polygon fill=\"black\" stroke=\"black\" points=\"62.48,-132.74 71.76,-127.62 61.32,-125.83 62.48,-132.74\"/>\n</g>\n<!-- y -->\n<g id=\"node6\" class=\"node\">\n<title>y</title>\n<ellipse fill=\"none\" stroke=\"black\" cx=\"18\" cy=\"-82.5\" rx=\"18\" ry=\"18\"/>\n<text text-anchor=\"middle\" x=\"18\" y=\"-78.8\" font-family=\"Times New Roman,serif\" font-size=\"14.00\">y</text>\n</g>\n<!-- y&#45;&gt;Replace Nullable Types Transformer -->\n<g id=\"edge8\" class=\"edge\">\n<title>y&#45;&gt;Replace Nullable Types Transformer</title>\n<path fill=\"none\" stroke=\"black\" stroke-dasharray=\"1,5\" d=\"M35.87,-85.34C42.94,-86.53 51.8,-88.02 61.63,-89.67\"/>\n<polygon fill=\"black\" stroke=\"black\" points=\"61.32,-93.17 71.76,-91.38 62.48,-86.26 61.32,-93.17\"/>\n</g>\n</g>\n</svg>\n",
      "text/plain": [
       "<graphviz.graphs.Digraph at 0x27bdbd75700>"
      ]
     },
     "execution_count": 29,
     "metadata": {},
     "output_type": "execute_result"
    }
   ],
   "source": [
    "best_pipeline.graph()"
   ]
  },
  {
   "cell_type": "code",
   "execution_count": null,
   "metadata": {},
   "outputs": [],
   "source": []
  }
 ],
 "metadata": {
  "kernelspec": {
   "display_name": "Python 3.8.13 ('test')",
   "language": "python",
   "name": "python3"
  },
  "language_info": {
   "codemirror_mode": {
    "name": "ipython",
    "version": 3
   },
   "file_extension": ".py",
   "mimetype": "text/x-python",
   "name": "python",
   "nbconvert_exporter": "python",
   "pygments_lexer": "ipython3",
   "version": "3.8.13"
  },
  "orig_nbformat": 4,
  "vscode": {
   "interpreter": {
    "hash": "8e7d6e3b1b26a6d44687ea7eff908016139f4f8ee84b40cfc43a1585b0ade309"
   }
  }
 },
 "nbformat": 4,
 "nbformat_minor": 2
}
