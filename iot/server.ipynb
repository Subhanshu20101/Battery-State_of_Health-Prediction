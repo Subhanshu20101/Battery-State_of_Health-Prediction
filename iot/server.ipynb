{
 "cells": [
  {
   "cell_type": "code",
   "execution_count": 1,
   "id": "7a4eefa4",
   "metadata": {},
   "outputs": [
    {
     "name": "stdout",
     "output_type": "stream",
     "text": [
      "Connection from: ('172.16.142.222', 64349)\n",
      "from connected user: hello\n",
      "from connected user: nai\n",
      "from connected user: dlfje\n"
     ]
    },
    {
     "ename": "ConnectionResetError",
     "evalue": "[WinError 10054] An existing connection was forcibly closed by the remote host",
     "output_type": "error",
     "traceback": [
      "\u001b[1;31m---------------------------------------------------------------------------\u001b[0m",
      "\u001b[1;31mConnectionResetError\u001b[0m                      Traceback (most recent call last)",
      "\u001b[1;32md:\\AIFD\\iot\\server.ipynb Cell 1\u001b[0m in \u001b[0;36m<cell line: 28>\u001b[1;34m()\u001b[0m\n\u001b[0;32m     <a href='vscode-notebook-cell:/d%3A/AIFD/iot/server.ipynb#W0sZmlsZQ%3D%3D?line=24'>25</a>\u001b[0m     conn\u001b[39m.\u001b[39mclose()  \u001b[39m# close the connection\u001b[39;00m\n\u001b[0;32m     <a href='vscode-notebook-cell:/d%3A/AIFD/iot/server.ipynb#W0sZmlsZQ%3D%3D?line=27'>28</a>\u001b[0m \u001b[39mif\u001b[39;00m \u001b[39m__name__\u001b[39m \u001b[39m==\u001b[39m \u001b[39m'\u001b[39m\u001b[39m__main__\u001b[39m\u001b[39m'\u001b[39m:\n\u001b[1;32m---> <a href='vscode-notebook-cell:/d%3A/AIFD/iot/server.ipynb#W0sZmlsZQ%3D%3D?line=28'>29</a>\u001b[0m     server_program()\n",
      "\u001b[1;32md:\\AIFD\\iot\\server.ipynb Cell 1\u001b[0m in \u001b[0;36mserver_program\u001b[1;34m()\u001b[0m\n\u001b[0;32m     <a href='vscode-notebook-cell:/d%3A/AIFD/iot/server.ipynb#W0sZmlsZQ%3D%3D?line=13'>14</a>\u001b[0m \u001b[39mprint\u001b[39m(\u001b[39m\"\u001b[39m\u001b[39mConnection from: \u001b[39m\u001b[39m\"\u001b[39m \u001b[39m+\u001b[39m \u001b[39mstr\u001b[39m(address))\n\u001b[0;32m     <a href='vscode-notebook-cell:/d%3A/AIFD/iot/server.ipynb#W0sZmlsZQ%3D%3D?line=14'>15</a>\u001b[0m \u001b[39mwhile\u001b[39;00m \u001b[39mTrue\u001b[39;00m:\n\u001b[0;32m     <a href='vscode-notebook-cell:/d%3A/AIFD/iot/server.ipynb#W0sZmlsZQ%3D%3D?line=15'>16</a>\u001b[0m     \u001b[39m# receive data stream. it won't accept data packet greater than 1024 bytes\u001b[39;00m\n\u001b[1;32m---> <a href='vscode-notebook-cell:/d%3A/AIFD/iot/server.ipynb#W0sZmlsZQ%3D%3D?line=16'>17</a>\u001b[0m     data \u001b[39m=\u001b[39m conn\u001b[39m.\u001b[39;49mrecv(\u001b[39m1024\u001b[39;49m)\u001b[39m.\u001b[39mdecode()\n\u001b[0;32m     <a href='vscode-notebook-cell:/d%3A/AIFD/iot/server.ipynb#W0sZmlsZQ%3D%3D?line=17'>18</a>\u001b[0m     \u001b[39mif\u001b[39;00m \u001b[39mnot\u001b[39;00m data:\n\u001b[0;32m     <a href='vscode-notebook-cell:/d%3A/AIFD/iot/server.ipynb#W0sZmlsZQ%3D%3D?line=18'>19</a>\u001b[0m         \u001b[39m# if data is not received break\u001b[39;00m\n\u001b[0;32m     <a href='vscode-notebook-cell:/d%3A/AIFD/iot/server.ipynb#W0sZmlsZQ%3D%3D?line=19'>20</a>\u001b[0m         \u001b[39mbreak\u001b[39;00m\n",
      "\u001b[1;31mConnectionResetError\u001b[0m: [WinError 10054] An existing connection was forcibly closed by the remote host"
     ]
    }
   ],
   "source": [
    "import socket\n",
    "def server_program():\n",
    "    # get the hostname\n",
    "    host = socket.gethostname()\n",
    "    port = 5000  # initiate port no above 1024\n",
    "\n",
    "    server_socket = socket.socket()  # get instance\n",
    "    # look closely. The bind() function takes tuple as argument\n",
    "    server_socket.bind((host, port))  # bind host address and port together\n",
    "\n",
    "    # configure how many client the server can listen simultaneously\n",
    "    server_socket.listen(2)\n",
    "    conn, address = server_socket.accept()  # accept new connection\n",
    "    print(\"Connection from: \" + str(address))\n",
    "    while True:\n",
    "        # receive data stream. it won't accept data packet greater than 1024 bytes\n",
    "        data = conn.recv(1024).decode()\n",
    "        if not data:\n",
    "            # if data is not received break\n",
    "            break\n",
    "        print(\"from connected user: \" + str(data))\n",
    "        data = input(' -> ')\n",
    "        conn.send(data.encode())  # send data to the client\n",
    "\n",
    "    conn.close()  # close the connection\n",
    "\n",
    "\n",
    "if __name__ == '__main__':\n",
    "    server_program()\n"
   ]
  },
  {
   "cell_type": "code",
   "execution_count": null,
   "id": "78cfecac",
   "metadata": {},
   "outputs": [],
   "source": []
  }
 ],
 "metadata": {
  "kernelspec": {
   "display_name": "Python 3.8.13 ('test')",
   "language": "python",
   "name": "python3"
  },
  "language_info": {
   "codemirror_mode": {
    "name": "ipython",
    "version": 3
   },
   "file_extension": ".py",
   "mimetype": "text/x-python",
   "name": "python",
   "nbconvert_exporter": "python",
   "pygments_lexer": "ipython3",
   "version": "3.8.13"
  },
  "vscode": {
   "interpreter": {
    "hash": "8e7d6e3b1b26a6d44687ea7eff908016139f4f8ee84b40cfc43a1585b0ade309"
   }
  }
 },
 "nbformat": 4,
 "nbformat_minor": 5
}
